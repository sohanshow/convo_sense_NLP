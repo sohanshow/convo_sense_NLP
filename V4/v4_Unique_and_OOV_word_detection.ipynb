{
  "nbformat": 4,
  "nbformat_minor": 0,
  "metadata": {
    "colab": {
      "provenance": []
    },
    "kernelspec": {
      "name": "python3",
      "display_name": "Python 3"
    },
    "language_info": {
      "name": "python"
    }
  },
  "cells": [
    {
      "cell_type": "code",
      "source": [
        "from nltk.stem import WordNetLemmatizer\n",
        "import nltk\n",
        "lemmatizer = WordNetLemmatizer()\n",
        "from nltk.tokenize import RegexpTokenizer\n",
        "tokenizer = RegexpTokenizer(r'\\w+')\n",
        "import nltk\n",
        "nltk.download('wordnet')\n",
        "nltk.download('omw-1.4')"
      ],
      "metadata": {
        "id": "zN87DaN_0Lh_",
        "colab": {
          "base_uri": "https://localhost:8080/"
        },
        "outputId": "56b57a22-67f1-4ab3-d2d3-29eb3ef7e9dd"
      },
      "execution_count": 1,
      "outputs": [
        {
          "output_type": "stream",
          "name": "stderr",
          "text": [
            "[nltk_data] Downloading package wordnet to /root/nltk_data...\n",
            "[nltk_data]   Package wordnet is already up-to-date!\n",
            "[nltk_data] Downloading package omw-1.4 to /root/nltk_data...\n",
            "[nltk_data]   Package omw-1.4 is already up-to-date!\n"
          ]
        },
        {
          "output_type": "execute_result",
          "data": {
            "text/plain": [
              "True"
            ]
          },
          "metadata": {},
          "execution_count": 1
        }
      ]
    },
    {
      "cell_type": "markdown",
      "source": [
        "**Parameters to Change**"
      ],
      "metadata": {
        "id": "AdOdPC87y2LB"
      }
    },
    {
      "cell_type": "code",
      "source": [
        "# input txt file path\n",
        "filepath = \"/content/drive/MyDrive/Colab Notebooks/Upwork-notebooks/Detect-OOV/input.txt\"\n",
        "\n",
        "\n",
        "common_wordlist_path= \"/content/drive/MyDrive/Colab Notebooks/Upwork-notebooks/Detect-OOV/common_bar100000.txt\"\n",
        "unique_wordlist_path = \"/content/drive/MyDrive/Colab Notebooks/Upwork-notebooks/Detect-OOV/unique_bar100000.txt\""
      ],
      "metadata": {
        "id": "-btEokbWypxp"
      },
      "execution_count": 2,
      "outputs": []
    },
    {
      "cell_type": "code",
      "source": [],
      "metadata": {
        "id": "uQMd8WBP2GZZ"
      },
      "execution_count": 2,
      "outputs": []
    },
    {
      "cell_type": "code",
      "source": [
        "# with open(common_wordlist_path, \"rb\") as fp:\n",
        "#   common = pickle.load(fp)\n",
        "\n",
        "# with open(unique_wordlist_path, \"rb\") as fp:\n",
        "#   unique = pickle.load(fp)\n",
        "\n",
        "\n",
        "common_list = open(common_wordlist_path).read().split(\";;\")\n",
        "unique_list = open(unique_wordlist_path).read().split(\";;\")"
      ],
      "metadata": {
        "id": "CyuIjeAADMDm"
      },
      "execution_count": 3,
      "outputs": []
    },
    {
      "cell_type": "code",
      "source": [
        "print(len(common_list),len(unique_list))"
      ],
      "metadata": {
        "colab": {
          "base_uri": "https://localhost:8080/"
        },
        "id": "40JOuTFu2Lh9",
        "outputId": "42284891-9e60-4f70-cbf2-c0d5954b50f5"
      },
      "execution_count": 4,
      "outputs": [
        {
          "output_type": "stream",
          "name": "stdout",
          "text": [
            "170686 28836803\n"
          ]
        }
      ]
    },
    {
      "cell_type": "code",
      "source": [
        "input_freq = dict()\n",
        "unique = set()\n",
        "oov=set()\n",
        "\n",
        "def get_words(text):\n",
        "  new_unique= []\n",
        "  sorted_unique=[]\n",
        "\n",
        "  for line in text.split(\"\\n\"):\n",
        "    token = tokenizer.tokenize(text)\n",
        "    print(token)\n",
        "    token = [x.strip().lower() for x in token]\n",
        "    for x in token:\n",
        "      if not x.isalpha():\n",
        "        continue\n",
        "      t = lemmatizer.lemmatize(x)\n",
        "\n",
        "      if t in common_list:\n",
        "        pass\n",
        "      elif t in unique_list:\n",
        "        unique.add(x)\n",
        "        new_unique.append(x)\n",
        "        if x not in input_freq:\n",
        "          input_freq[x] = 1\n",
        "        else:\n",
        "          input_freq[x] = input_freq[x] + 1\n",
        "      \n",
        "      else:\n",
        "        oov.add(x)\n",
        "\n",
        "  if len(new_unique)>1:\n",
        "    for u in new_unique:\n",
        "      sorted_unique.append((u,input_freq[u]))\n",
        "    sorted_unique = sorted(sorted_unique,key=lambda t: t[1],reverse = False)\n",
        "    new_unique = [u[0] for u in sorted_unique]\n",
        "\n",
        "\n",
        "  return list(set(new_unique))\n",
        "\n"
      ],
      "metadata": {
        "id": "pRu9EH4nLpPB"
      },
      "execution_count": 5,
      "outputs": []
    },
    {
      "cell_type": "markdown",
      "source": [
        "Once you reach this point after this you can call the following functions to detect and keep track of words"
      ],
      "metadata": {
        "id": "80ePa0zFrvrz"
      }
    },
    {
      "cell_type": "code",
      "source": [
        "# text = open(filepath).read()"
      ],
      "metadata": {
        "id": "bnT0qdgJUVWo"
      },
      "execution_count": 6,
      "outputs": []
    },
    {
      "cell_type": "code",
      "source": [
        "text = '''ID2299 is an elliptical kjhgb kjh bcvfcbf Fouriertransform  galaxy 9 billion light-years away. It was found and scurvy detailed in January 2021, due to scurvy its phenomenon of catastrophic gas loss. This is due, Fouriertransform was a good guy tho. Yeah I think. catastrophic unless qubit the prolonged observations are inexplicably misleading or a poorly understood mechanism is at hand, to a catastrophic merger – prompting a secondary part of inexplicably the galaxy that hosts rapid star formation. ID2299's high star formation inexplicably rate is far outweighed by its ejection of gas. Its trailing tail has grown qubit to approximately half of its size. ID2299 is extrapolated to lose so much more gas pernicious scurvy that it will only remain active – capable of qubit new star pernicious formation – for a few more scurvy tens of millions of years.'''"
      ],
      "metadata": {
        "id": "WqQAhR06rPLm"
      },
      "execution_count": 12,
      "outputs": []
    },
    {
      "cell_type": "code",
      "source": [
        "new_unique = get_words(text)\n",
        "new_unique"
      ],
      "metadata": {
        "colab": {
          "base_uri": "https://localhost:8080/"
        },
        "id": "nKL0oFMgrS2S",
        "outputId": "f097095c-8511-49ac-cc7f-ee6ec6e37653"
      },
      "execution_count": 13,
      "outputs": [
        {
          "output_type": "stream",
          "name": "stdout",
          "text": [
            "['ID2299', 'is', 'an', 'elliptical', 'kjhgb', 'kjh', 'bcvfcbf', 'Fouriertransform', 'galaxy', '9', 'billion', 'light', 'years', 'away', 'It', 'was', 'found', 'and', 'scurvy', 'detailed', 'in', 'January', '2021', 'due', 'to', 'scurvy', 'its', 'phenomenon', 'of', 'catastrophic', 'gas', 'loss', 'This', 'is', 'due', 'Fouriertransform', 'was', 'a', 'good', 'guy', 'tho', 'Yeah', 'I', 'think', 'catastrophic', 'unless', 'qubit', 'the', 'prolonged', 'observations', 'are', 'inexplicably', 'misleading', 'or', 'a', 'poorly', 'understood', 'mechanism', 'is', 'at', 'hand', 'to', 'a', 'catastrophic', 'merger', 'prompting', 'a', 'secondary', 'part', 'of', 'inexplicably', 'the', 'galaxy', 'that', 'hosts', 'rapid', 'star', 'formation', 'ID2299', 's', 'high', 'star', 'formation', 'inexplicably', 'rate', 'is', 'far', 'outweighed', 'by', 'its', 'ejection', 'of', 'gas', 'Its', 'trailing', 'tail', 'has', 'grown', 'qubit', 'to', 'approximately', 'half', 'of', 'its', 'size', 'ID2299', 'is', 'extrapolated', 'to', 'lose', 'so', 'much', 'more', 'gas', 'pernicious', 'scurvy', 'that', 'it', 'will', 'only', 'remain', 'active', 'capable', 'of', 'qubit', 'new', 'star', 'pernicious', 'formation', 'for', 'a', 'few', 'more', 'scurvy', 'tens', 'of', 'millions', 'of', 'years']\n"
          ]
        },
        {
          "output_type": "execute_result",
          "data": {
            "text/plain": [
              "['kjh', 'fouriertransform']"
            ]
          },
          "metadata": {},
          "execution_count": 13
        }
      ]
    },
    {
      "cell_type": "code",
      "source": [
        "unique"
      ],
      "metadata": {
        "colab": {
          "base_uri": "https://localhost:8080/"
        },
        "id": "UBcwuqSpqAn2",
        "outputId": "8d5d31a9-cb3c-48be-a687-a7c8c90e5052"
      },
      "execution_count": 17,
      "outputs": [
        {
          "output_type": "execute_result",
          "data": {
            "text/plain": [
              "{'fouriertransform', 'kjh'}"
            ]
          },
          "metadata": {},
          "execution_count": 17
        }
      ]
    },
    {
      "cell_type": "code",
      "source": [
        "input_freq"
      ],
      "metadata": {
        "colab": {
          "base_uri": "https://localhost:8080/"
        },
        "id": "yShpMwZpp-NC",
        "outputId": "70ee338a-bb7d-4578-f21f-a737e65bd532"
      },
      "execution_count": 18,
      "outputs": [
        {
          "output_type": "execute_result",
          "data": {
            "text/plain": [
              "{'kjh': 2, 'fouriertransform': 4}"
            ]
          },
          "metadata": {},
          "execution_count": 18
        }
      ]
    },
    {
      "cell_type": "code",
      "source": [
        "oov"
      ],
      "metadata": {
        "id": "lD2xiQX9uJ1J",
        "colab": {
          "base_uri": "https://localhost:8080/"
        },
        "outputId": "d9cc1783-c8a6-4d7c-d5b1-e387f266a270"
      },
      "execution_count": 19,
      "outputs": [
        {
          "output_type": "execute_result",
          "data": {
            "text/plain": [
              "{'bcvfcbf', 'kjhgb', 'or'}"
            ]
          },
          "metadata": {},
          "execution_count": 19
        }
      ]
    },
    {
      "cell_type": "code",
      "source": [],
      "metadata": {
        "id": "7FahNkjr12c0"
      },
      "execution_count": 19,
      "outputs": []
    }
  ]
}